{
  "nbformat": 4,
  "nbformat_minor": 0,
  "metadata": {
    "colab": {
      "provenance": [],
      "authorship_tag": "ABX9TyMbtwjf6vNCQtdEzfH81r+k",
      "include_colab_link": true
    },
    "kernelspec": {
      "name": "python3",
      "display_name": "Python 3"
    },
    "language_info": {
      "name": "python"
    }
  },
  "cells": [
    {
      "cell_type": "markdown",
      "metadata": {
        "id": "view-in-github",
        "colab_type": "text"
      },
      "source": [
        "<a href=\"https://colab.research.google.com/github/not-Bartek/Linear-regression/blob/main/Linear_Regression_in_Python.ipynb\" target=\"_parent\"><img src=\"https://colab.research.google.com/assets/colab-badge.svg\" alt=\"Open In Colab\"/></a>"
      ]
    },
    {
      "cell_type": "markdown",
      "source": [
        "Linear Regression\n",
        "\n",
        "Y = wX + b\n",
        "\n",
        "Y -> Dependent Variable\n",
        "\n",
        "X -> Independent Variable\n",
        "\n",
        "w -> weight\n",
        "\n",
        "b -> bias"
      ],
      "metadata": {
        "id": "e_9HOQdyGG6L"
      }
    },
    {
      "cell_type": "markdown",
      "source": [
        "**Gradient Descent:**\n",
        "\n",
        "Gradient Descent is an optimization algorithm used for minimizing the loss function in various machine learning algorithms. It is used for updating the parameters of the learning model.\n",
        "\n",
        "w = w -a * da/dw\n",
        "\n",
        "b = w - a * da/db"
      ],
      "metadata": {
        "id": "ZPrrZ_DKGXjo"
      }
    },
    {
      "cell_type": "markdown",
      "source": [
        "**Learning Rate:**\n",
        "Learning rate is a tuning parameter in an optimization algorithm that determines the step size at each iteration while moving toward a minimum of a loss function"
      ],
      "metadata": {
        "id": "DF_BYtlQG2n2"
      }
    },
    {
      "cell_type": "markdown",
      "source": [
        "![image.png](data:image/png;base64,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)\n",
        "![image.png](data:image/png;base64,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)"
      ],
      "metadata": {
        "id": "6eEw1QbrH1mv"
      }
    },
    {
      "cell_type": "code",
      "source": [
        "#importing numpy library\n",
        "import numpy as np"
      ],
      "metadata": {
        "id": "el4vihAsGKdo"
      },
      "execution_count": 130,
      "outputs": []
    },
    {
      "cell_type": "markdown",
      "source": [
        "**Linear Regression**"
      ],
      "metadata": {
        "id": "R9RZabnzTf8B"
      }
    },
    {
      "cell_type": "code",
      "source": [
        "class Linear_Regression():\n",
        "\n",
        "#initiating the parameters (learning rate & no. of iterations)\n",
        "  def __init__(self, learning_rate, no_of_iterations):\n",
        "\n",
        "    self.learning_rate = learning_rate\n",
        "    self.no_of_iterations = no_of_iterations\n",
        "\n",
        "  def fit(self, X, Y):\n",
        "    #number of training examples & numbers of features\n",
        "    self.m, self.n = X.shape #number of rows and columns\n",
        "\n",
        "    self.w = np.zeros(self.n)\n",
        "    self.b = 0\n",
        "    self.X = X\n",
        "    self.Y = Y\n",
        "\n",
        "    for i in range(self.no_of_iterations):\n",
        "      self.update_weights()\n",
        "\n",
        "  def update_weights(self):\n",
        "    Y_prediction = self.predict(self.X)\n",
        "\n",
        "    dw = - (2 * (self.X.T).dot(self.Y - Y_prediction)) / self.m\n",
        "    db = - 2 * np.sum(self.Y - Y_prediction)/self.m\n",
        "    #updating the weights\n",
        "    self.w = self.w - self.learning_rate*dw\n",
        "    self.b = self.b - self.learning_rate*db\n",
        "\n",
        "  def predict(self, X):\n",
        "    return X.dot(self.w) + self.b"
      ],
      "metadata": {
        "id": "NYsdW_eWIWS1"
      },
      "execution_count": 131,
      "outputs": []
    },
    {
      "cell_type": "markdown",
      "source": [
        "Using Linear Regression model for Prediction"
      ],
      "metadata": {
        "id": "M4Ron4hRhRMz"
      }
    },
    {
      "cell_type": "code",
      "source": [
        "import pandas as pd\n",
        "from sklearn.model_selection import train_test_split\n",
        "import matplotlib.pyplot as plt\n"
      ],
      "metadata": {
        "id": "LStj0S7OhV4p"
      },
      "execution_count": 132,
      "outputs": []
    },
    {
      "cell_type": "markdown",
      "source": [
        "Data Collection and analysis"
      ],
      "metadata": {
        "id": "R9eibv5-gyDr"
      }
    },
    {
      "cell_type": "code",
      "source": [
        "salary_data = pd.read_csv('salary_data.csv')"
      ],
      "metadata": {
        "id": "CsbUZ6HIgwGi"
      },
      "execution_count": 133,
      "outputs": []
    },
    {
      "cell_type": "code",
      "source": [
        "salary_data.head()"
      ],
      "metadata": {
        "colab": {
          "base_uri": "https://localhost:8080/",
          "height": 206
        },
        "id": "hFJCI4AFg3eb",
        "outputId": "d48d8325-c40a-4f76-cf05-c4f434745175"
      },
      "execution_count": 134,
      "outputs": [
        {
          "output_type": "execute_result",
          "data": {
            "text/plain": [
              "   YearsExperience  Salary\n",
              "0              1.1   39343\n",
              "1              1.3   46205\n",
              "2              1.5   37731\n",
              "3              2.0   43525\n",
              "4              2.2   39891"
            ],
            "text/html": [
              "\n",
              "  <div id=\"df-80c7c3e9-db4d-4984-8f2d-050b4736d2c8\" class=\"colab-df-container\">\n",
              "    <div>\n",
              "<style scoped>\n",
              "    .dataframe tbody tr th:only-of-type {\n",
              "        vertical-align: middle;\n",
              "    }\n",
              "\n",
              "    .dataframe tbody tr th {\n",
              "        vertical-align: top;\n",
              "    }\n",
              "\n",
              "    .dataframe thead th {\n",
              "        text-align: right;\n",
              "    }\n",
              "</style>\n",
              "<table border=\"1\" class=\"dataframe\">\n",
              "  <thead>\n",
              "    <tr style=\"text-align: right;\">\n",
              "      <th></th>\n",
              "      <th>YearsExperience</th>\n",
              "      <th>Salary</th>\n",
              "    </tr>\n",
              "  </thead>\n",
              "  <tbody>\n",
              "    <tr>\n",
              "      <th>0</th>\n",
              "      <td>1.1</td>\n",
              "      <td>39343</td>\n",
              "    </tr>\n",
              "    <tr>\n",
              "      <th>1</th>\n",
              "      <td>1.3</td>\n",
              "      <td>46205</td>\n",
              "    </tr>\n",
              "    <tr>\n",
              "      <th>2</th>\n",
              "      <td>1.5</td>\n",
              "      <td>37731</td>\n",
              "    </tr>\n",
              "    <tr>\n",
              "      <th>3</th>\n",
              "      <td>2.0</td>\n",
              "      <td>43525</td>\n",
              "    </tr>\n",
              "    <tr>\n",
              "      <th>4</th>\n",
              "      <td>2.2</td>\n",
              "      <td>39891</td>\n",
              "    </tr>\n",
              "  </tbody>\n",
              "</table>\n",
              "</div>\n",
              "    <div class=\"colab-df-buttons\">\n",
              "\n",
              "  <div class=\"colab-df-container\">\n",
              "    <button class=\"colab-df-convert\" onclick=\"convertToInteractive('df-80c7c3e9-db4d-4984-8f2d-050b4736d2c8')\"\n",
              "            title=\"Convert this dataframe to an interactive table.\"\n",
              "            style=\"display:none;\">\n",
              "\n",
              "  <svg xmlns=\"http://www.w3.org/2000/svg\" height=\"24px\" viewBox=\"0 -960 960 960\">\n",
              "    <path d=\"M120-120v-720h720v720H120Zm60-500h600v-160H180v160Zm220 220h160v-160H400v160Zm0 220h160v-160H400v160ZM180-400h160v-160H180v160Zm440 0h160v-160H620v160ZM180-180h160v-160H180v160Zm440 0h160v-160H620v160Z\"/>\n",
              "  </svg>\n",
              "    </button>\n",
              "\n",
              "  <style>\n",
              "    .colab-df-container {\n",
              "      display:flex;\n",
              "      gap: 12px;\n",
              "    }\n",
              "\n",
              "    .colab-df-convert {\n",
              "      background-color: #E8F0FE;\n",
              "      border: none;\n",
              "      border-radius: 50%;\n",
              "      cursor: pointer;\n",
              "      display: none;\n",
              "      fill: #1967D2;\n",
              "      height: 32px;\n",
              "      padding: 0 0 0 0;\n",
              "      width: 32px;\n",
              "    }\n",
              "\n",
              "    .colab-df-convert:hover {\n",
              "      background-color: #E2EBFA;\n",
              "      box-shadow: 0px 1px 2px rgba(60, 64, 67, 0.3), 0px 1px 3px 1px rgba(60, 64, 67, 0.15);\n",
              "      fill: #174EA6;\n",
              "    }\n",
              "\n",
              "    .colab-df-buttons div {\n",
              "      margin-bottom: 4px;\n",
              "    }\n",
              "\n",
              "    [theme=dark] .colab-df-convert {\n",
              "      background-color: #3B4455;\n",
              "      fill: #D2E3FC;\n",
              "    }\n",
              "\n",
              "    [theme=dark] .colab-df-convert:hover {\n",
              "      background-color: #434B5C;\n",
              "      box-shadow: 0px 1px 3px 1px rgba(0, 0, 0, 0.15);\n",
              "      filter: drop-shadow(0px 1px 2px rgba(0, 0, 0, 0.3));\n",
              "      fill: #FFFFFF;\n",
              "    }\n",
              "  </style>\n",
              "\n",
              "    <script>\n",
              "      const buttonEl =\n",
              "        document.querySelector('#df-80c7c3e9-db4d-4984-8f2d-050b4736d2c8 button.colab-df-convert');\n",
              "      buttonEl.style.display =\n",
              "        google.colab.kernel.accessAllowed ? 'block' : 'none';\n",
              "\n",
              "      async function convertToInteractive(key) {\n",
              "        const element = document.querySelector('#df-80c7c3e9-db4d-4984-8f2d-050b4736d2c8');\n",
              "        const dataTable =\n",
              "          await google.colab.kernel.invokeFunction('convertToInteractive',\n",
              "                                                    [key], {});\n",
              "        if (!dataTable) return;\n",
              "\n",
              "        const docLinkHtml = 'Like what you see? Visit the ' +\n",
              "          '<a target=\"_blank\" href=https://colab.research.google.com/notebooks/data_table.ipynb>data table notebook</a>'\n",
              "          + ' to learn more about interactive tables.';\n",
              "        element.innerHTML = '';\n",
              "        dataTable['output_type'] = 'display_data';\n",
              "        await google.colab.output.renderOutput(dataTable, element);\n",
              "        const docLink = document.createElement('div');\n",
              "        docLink.innerHTML = docLinkHtml;\n",
              "        element.appendChild(docLink);\n",
              "      }\n",
              "    </script>\n",
              "  </div>\n",
              "\n",
              "\n",
              "<div id=\"df-a1562a08-cb89-4fc3-941b-1fd14b707514\">\n",
              "  <button class=\"colab-df-quickchart\" onclick=\"quickchart('df-a1562a08-cb89-4fc3-941b-1fd14b707514')\"\n",
              "            title=\"Suggest charts\"\n",
              "            style=\"display:none;\">\n",
              "\n",
              "<svg xmlns=\"http://www.w3.org/2000/svg\" height=\"24px\"viewBox=\"0 0 24 24\"\n",
              "     width=\"24px\">\n",
              "    <g>\n",
              "        <path d=\"M19 3H5c-1.1 0-2 .9-2 2v14c0 1.1.9 2 2 2h14c1.1 0 2-.9 2-2V5c0-1.1-.9-2-2-2zM9 17H7v-7h2v7zm4 0h-2V7h2v10zm4 0h-2v-4h2v4z\"/>\n",
              "    </g>\n",
              "</svg>\n",
              "  </button>\n",
              "\n",
              "<style>\n",
              "  .colab-df-quickchart {\n",
              "      --bg-color: #E8F0FE;\n",
              "      --fill-color: #1967D2;\n",
              "      --hover-bg-color: #E2EBFA;\n",
              "      --hover-fill-color: #174EA6;\n",
              "      --disabled-fill-color: #AAA;\n",
              "      --disabled-bg-color: #DDD;\n",
              "  }\n",
              "\n",
              "  [theme=dark] .colab-df-quickchart {\n",
              "      --bg-color: #3B4455;\n",
              "      --fill-color: #D2E3FC;\n",
              "      --hover-bg-color: #434B5C;\n",
              "      --hover-fill-color: #FFFFFF;\n",
              "      --disabled-bg-color: #3B4455;\n",
              "      --disabled-fill-color: #666;\n",
              "  }\n",
              "\n",
              "  .colab-df-quickchart {\n",
              "    background-color: var(--bg-color);\n",
              "    border: none;\n",
              "    border-radius: 50%;\n",
              "    cursor: pointer;\n",
              "    display: none;\n",
              "    fill: var(--fill-color);\n",
              "    height: 32px;\n",
              "    padding: 0;\n",
              "    width: 32px;\n",
              "  }\n",
              "\n",
              "  .colab-df-quickchart:hover {\n",
              "    background-color: var(--hover-bg-color);\n",
              "    box-shadow: 0 1px 2px rgba(60, 64, 67, 0.3), 0 1px 3px 1px rgba(60, 64, 67, 0.15);\n",
              "    fill: var(--button-hover-fill-color);\n",
              "  }\n",
              "\n",
              "  .colab-df-quickchart-complete:disabled,\n",
              "  .colab-df-quickchart-complete:disabled:hover {\n",
              "    background-color: var(--disabled-bg-color);\n",
              "    fill: var(--disabled-fill-color);\n",
              "    box-shadow: none;\n",
              "  }\n",
              "\n",
              "  .colab-df-spinner {\n",
              "    border: 2px solid var(--fill-color);\n",
              "    border-color: transparent;\n",
              "    border-bottom-color: var(--fill-color);\n",
              "    animation:\n",
              "      spin 1s steps(1) infinite;\n",
              "  }\n",
              "\n",
              "  @keyframes spin {\n",
              "    0% {\n",
              "      border-color: transparent;\n",
              "      border-bottom-color: var(--fill-color);\n",
              "      border-left-color: var(--fill-color);\n",
              "    }\n",
              "    20% {\n",
              "      border-color: transparent;\n",
              "      border-left-color: var(--fill-color);\n",
              "      border-top-color: var(--fill-color);\n",
              "    }\n",
              "    30% {\n",
              "      border-color: transparent;\n",
              "      border-left-color: var(--fill-color);\n",
              "      border-top-color: var(--fill-color);\n",
              "      border-right-color: var(--fill-color);\n",
              "    }\n",
              "    40% {\n",
              "      border-color: transparent;\n",
              "      border-right-color: var(--fill-color);\n",
              "      border-top-color: var(--fill-color);\n",
              "    }\n",
              "    60% {\n",
              "      border-color: transparent;\n",
              "      border-right-color: var(--fill-color);\n",
              "    }\n",
              "    80% {\n",
              "      border-color: transparent;\n",
              "      border-right-color: var(--fill-color);\n",
              "      border-bottom-color: var(--fill-color);\n",
              "    }\n",
              "    90% {\n",
              "      border-color: transparent;\n",
              "      border-bottom-color: var(--fill-color);\n",
              "    }\n",
              "  }\n",
              "</style>\n",
              "\n",
              "  <script>\n",
              "    async function quickchart(key) {\n",
              "      const quickchartButtonEl =\n",
              "        document.querySelector('#' + key + ' button');\n",
              "      quickchartButtonEl.disabled = true;  // To prevent multiple clicks.\n",
              "      quickchartButtonEl.classList.add('colab-df-spinner');\n",
              "      try {\n",
              "        const charts = await google.colab.kernel.invokeFunction(\n",
              "            'suggestCharts', [key], {});\n",
              "      } catch (error) {\n",
              "        console.error('Error during call to suggestCharts:', error);\n",
              "      }\n",
              "      quickchartButtonEl.classList.remove('colab-df-spinner');\n",
              "      quickchartButtonEl.classList.add('colab-df-quickchart-complete');\n",
              "    }\n",
              "    (() => {\n",
              "      let quickchartButtonEl =\n",
              "        document.querySelector('#df-a1562a08-cb89-4fc3-941b-1fd14b707514 button');\n",
              "      quickchartButtonEl.style.display =\n",
              "        google.colab.kernel.accessAllowed ? 'block' : 'none';\n",
              "    })();\n",
              "  </script>\n",
              "</div>\n",
              "    </div>\n",
              "  </div>\n"
            ],
            "application/vnd.google.colaboratory.intrinsic+json": {
              "type": "dataframe",
              "variable_name": "salary_data",
              "summary": "{\n  \"name\": \"salary_data\",\n  \"rows\": 30,\n  \"fields\": [\n    {\n      \"column\": \"YearsExperience\",\n      \"properties\": {\n        \"dtype\": \"number\",\n        \"std\": 2.8378881576627184,\n        \"min\": 1.1,\n        \"max\": 10.5,\n        \"num_unique_values\": 28,\n        \"samples\": [\n          3.9,\n          9.6,\n          3.7\n        ],\n        \"semantic_type\": \"\",\n        \"description\": \"\"\n      }\n    },\n    {\n      \"column\": \"Salary\",\n      \"properties\": {\n        \"dtype\": \"number\",\n        \"std\": 27414,\n        \"min\": 37731,\n        \"max\": 122391,\n        \"num_unique_values\": 30,\n        \"samples\": [\n          112635,\n          67938,\n          113812\n        ],\n        \"semantic_type\": \"\",\n        \"description\": \"\"\n      }\n    }\n  ]\n}"
            }
          },
          "metadata": {},
          "execution_count": 134
        }
      ]
    },
    {
      "cell_type": "code",
      "source": [
        "salary_data.isnull().sum()"
      ],
      "metadata": {
        "colab": {
          "base_uri": "https://localhost:8080/"
        },
        "id": "Ki83Ou21g8-H",
        "outputId": "b43222ba-1bd7-4a32-f523-3466a22fd28a"
      },
      "execution_count": 135,
      "outputs": [
        {
          "output_type": "execute_result",
          "data": {
            "text/plain": [
              "YearsExperience    0\n",
              "Salary             0\n",
              "dtype: int64"
            ]
          },
          "metadata": {},
          "execution_count": 135
        }
      ]
    },
    {
      "cell_type": "markdown",
      "source": [
        "Splitting the feature and the target"
      ],
      "metadata": {
        "id": "uZpOJfxRhveO"
      }
    },
    {
      "cell_type": "code",
      "source": [
        "X = salary_data.iloc[:,:-1].values\n",
        "Y = salary_data.iloc[:,1].values"
      ],
      "metadata": {
        "id": "3qj9-NSOhscD"
      },
      "execution_count": 136,
      "outputs": []
    },
    {
      "cell_type": "code",
      "source": [
        "print(Y)"
      ],
      "metadata": {
        "colab": {
          "base_uri": "https://localhost:8080/"
        },
        "id": "eyMNpjhkrk24",
        "outputId": "214c6e8b-3e6f-43b7-ff6c-f0851e6a6a2a"
      },
      "execution_count": 137,
      "outputs": [
        {
          "output_type": "stream",
          "name": "stdout",
          "text": [
            "[ 39343  46205  37731  43525  39891  56642  60150  54445  64445  57189\n",
            "  63218  55794  56957  57081  61111  67938  66029  83088  81363  93940\n",
            "  91738  98273 101302 113812 109431 105582 116969 112635 122391 121872]\n"
          ]
        }
      ]
    },
    {
      "cell_type": "markdown",
      "source": [
        "Splitting data into test and train"
      ],
      "metadata": {
        "id": "LJ3Y3Hwth9K4"
      }
    },
    {
      "cell_type": "code",
      "source": [
        "X_train, X_test, Y_train, Y_test = train_test_split(X, Y, test_size=0.33, random_state=2)"
      ],
      "metadata": {
        "id": "Ei_WzWzvh78m"
      },
      "execution_count": 138,
      "outputs": []
    },
    {
      "cell_type": "markdown",
      "source": [
        "Training the Linear Regression model"
      ],
      "metadata": {
        "id": "8fmMA70hib4s"
      }
    },
    {
      "cell_type": "code",
      "source": [
        "model = Linear_Regression(learning_rate=0.02, no_of_iterations=1000)"
      ],
      "metadata": {
        "id": "Q0QxvlXziJpk"
      },
      "execution_count": 152,
      "outputs": []
    },
    {
      "cell_type": "code",
      "source": [
        "model.fit(X_train, Y_train)"
      ],
      "metadata": {
        "id": "wrXzkQmhjvCH"
      },
      "execution_count": 153,
      "outputs": []
    },
    {
      "cell_type": "code",
      "source": [
        "print('weight = ', model.w[0])\n",
        "print('bias = ', model.b)"
      ],
      "metadata": {
        "colab": {
          "base_uri": "https://localhost:8080/"
        },
        "id": "kYRp7Dt4jyWP",
        "outputId": "02223c37-091f-4ae1-86f3-82f5ba73684d"
      },
      "execution_count": 154,
      "outputs": [
        {
          "output_type": "stream",
          "name": "stdout",
          "text": [
            "weight =  9514.400999035135\n",
            "bias =  23697.406507136307\n"
          ]
        }
      ]
    },
    {
      "cell_type": "markdown",
      "source": [
        "Salary = 9514(x) + 23697"
      ],
      "metadata": {
        "id": "VoXgqhkwve8k"
      }
    },
    {
      "cell_type": "code",
      "source": [
        "test_data_prediction = model.predict(X_test)"
      ],
      "metadata": {
        "id": "6e0YcUDWlqQ9"
      },
      "execution_count": 155,
      "outputs": []
    },
    {
      "cell_type": "code",
      "source": [
        "test_data_prediction"
      ],
      "metadata": {
        "colab": {
          "base_uri": "https://localhost:8080/"
        },
        "id": "bybvIkhhvtIL",
        "outputId": "e998e27e-898c-49b9-d17a-b0b40ee9ee8d"
      },
      "execution_count": 156,
      "outputs": [
        {
          "output_type": "execute_result",
          "data": {
            "text/plain": [
              "array([ 36066.12780588,  34163.24760607,  66512.21100279,  58900.69020357,\n",
              "        91249.65360029,  80783.81250135, 101715.49469922,  52240.60950424,\n",
              "        42726.20850521,  88395.33330058])"
            ]
          },
          "metadata": {},
          "execution_count": 156
        }
      ]
    },
    {
      "cell_type": "code",
      "source": [
        "plt.scatter(X_test, Y_test, color='red')\n",
        "plt.plot(X_test, test_data_prediction, color = 'blue')\n",
        "plt.xlabel('Work Experience')\n",
        "plt.ylabel('Salary')\n",
        "plt.title('Salary vs Experience')\n",
        "plt.show()"
      ],
      "metadata": {
        "colab": {
          "base_uri": "https://localhost:8080/",
          "height": 472
        },
        "id": "u1uOhEFTvvS4",
        "outputId": "03ff6191-cf11-4bc4-9dbd-9dd420326216"
      },
      "execution_count": 157,
      "outputs": [
        {
          "output_type": "display_data",
          "data": {
            "text/plain": [
              "<Figure size 640x480 with 1 Axes>"
            ],
            "image/png": "[encoded data removed]"
          },
          "metadata": {}
        }
      ]
    },
    {
      "cell_type": "code",
      "source": [],
      "metadata": {
        "id": "d51BshGsv_ZM"
      },
      "execution_count": null,
      "outputs": []
    }
  ]
}